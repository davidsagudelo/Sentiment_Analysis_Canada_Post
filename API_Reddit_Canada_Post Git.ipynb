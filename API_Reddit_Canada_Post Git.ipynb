{
 "cells": [
  {
   "cell_type": "code",
   "execution_count": null,
   "id": "a662f972",
   "metadata": {
    "scrolled": false
   },
   "outputs": [],
   "source": [
    "# pip install praw"
   ]
  },
  {
   "cell_type": "code",
   "execution_count": 1,
   "id": "9bfcbcdf",
   "metadata": {},
   "outputs": [],
   "source": [
    "import pandas as pd\n",
    "import praw"
   ]
  },
  {
   "cell_type": "code",
   "execution_count": 2,
   "id": "5ce95b9f",
   "metadata": {},
   "outputs": [],
   "source": [
    "user_agent = \"Scraper 1.0 by/u/Cool-Dog-3907\"\n",
    "reddit = praw.Reddit(\n",
    "    client_id=\"<Your_Client_key_Here>\",\n",
    "    client_secret=\"<Your_secret_Client_key_Here>\",\n",
    "    user_agent=user_agent\n",
    ")"
   ]
  },
  {
   "cell_type": "code",
   "execution_count": 3,
   "id": "8a50579b",
   "metadata": {},
   "outputs": [
    {
     "name": "stdout",
     "output_type": "stream",
     "text": [
      "22\n"
     ]
    }
   ],
   "source": [
    "reviews = set()\n",
    "for submisssion in reddit.subreddit('purolator').hot(limit=None):\n",
    "    reviews.add(submisssion.title)\n",
    "print(len(reviews))    "
   ]
  },
  {
   "cell_type": "code",
   "execution_count": 4,
   "id": "ac539bd8",
   "metadata": {},
   "outputs": [
    {
     "data": {
      "text/html": [
       "<div>\n",
       "<style scoped>\n",
       "    .dataframe tbody tr th:only-of-type {\n",
       "        vertical-align: middle;\n",
       "    }\n",
       "\n",
       "    .dataframe tbody tr th {\n",
       "        vertical-align: top;\n",
       "    }\n",
       "\n",
       "    .dataframe thead th {\n",
       "        text-align: right;\n",
       "    }\n",
       "</style>\n",
       "<table border=\"1\" class=\"dataframe\">\n",
       "  <thead>\n",
       "    <tr style=\"text-align: right;\">\n",
       "      <th></th>\n",
       "      <th>reviews</th>\n",
       "    </tr>\n",
       "  </thead>\n",
       "  <tbody>\n",
       "    <tr>\n",
       "      <th>0</th>\n",
       "      <td>Proof that Purolator doesn't try to deliver yo...</td>\n",
       "    </tr>\n",
       "    <tr>\n",
       "      <th>1</th>\n",
       "      <td>Purolator is a Joke but not a Courier</td>\n",
       "    </tr>\n",
       "    <tr>\n",
       "      <th>2</th>\n",
       "      <td>Minor construction on your road? Better send t...</td>\n",
       "    </tr>\n",
       "    <tr>\n",
       "      <th>3</th>\n",
       "      <td>Fuck Purolator, and how to get Amazon to not u...</td>\n",
       "    </tr>\n",
       "    <tr>\n",
       "      <th>4</th>\n",
       "      <td>How does this happen??</td>\n",
       "    </tr>\n",
       "  </tbody>\n",
       "</table>\n",
       "</div>"
      ],
      "text/plain": [
       "                                             reviews\n",
       "0  Proof that Purolator doesn't try to deliver yo...\n",
       "1              Purolator is a Joke but not a Courier\n",
       "2  Minor construction on your road? Better send t...\n",
       "3  Fuck Purolator, and how to get Amazon to not u...\n",
       "4                             How does this happen??"
      ]
     },
     "execution_count": 4,
     "metadata": {},
     "output_type": "execute_result"
    }
   ],
   "source": [
    "df = pd.DataFrame(reviews)\n",
    "df = pd.DataFrame(reviews, columns=[\"reviews\"])\n",
    "df.to_csv('Reviews_reddit_purolator.csv',header=False,encoding=\"utf-8\",index=False)\n",
    "df.head()"
   ]
  },
  {
   "cell_type": "code",
   "execution_count": null,
   "id": "31fe5528",
   "metadata": {},
   "outputs": [],
   "source": []
  }
 ],
 "metadata": {
  "kernelspec": {
   "display_name": "Python 3 (ipykernel)",
   "language": "python",
   "name": "python3"
  },
  "language_info": {
   "codemirror_mode": {
    "name": "ipython",
    "version": 3
   },
   "file_extension": ".py",
   "mimetype": "text/x-python",
   "name": "python",
   "nbconvert_exporter": "python",
   "pygments_lexer": "ipython3",
   "version": "3.10.9"
  }
 },
 "nbformat": 4,
 "nbformat_minor": 5
}
